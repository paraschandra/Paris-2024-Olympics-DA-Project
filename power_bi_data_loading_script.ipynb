{
 "cells": [
  {
   "cell_type": "markdown",
   "metadata": {},
   "source": [
    "### Python Script to Load Data into Power BI"
   ]
  },
  {
   "cell_type": "code",
   "execution_count": 1,
   "metadata": {},
   "outputs": [],
   "source": [
    "import pandas as pd\n",
    "import os\n",
    "\n",
    "download_path = 'D:/VS Code/Data Analysis/DA Projects/Paris 2024 Olympics DA Project/Data'\n",
    "\n",
    "athletes = pd.read_csv(os.path.join(download_path, 'athletes.csv'))\n",
    "events = pd.read_csv(os.path.join(download_path, 'events.csv'))\n",
    "medallists = pd.read_csv(os.path.join(download_path, 'medallists.csv'))\n",
    "medals = pd.read_csv(os.path.join(download_path, 'medals.csv'))\n",
    "medals_total = pd.read_csv(os.path.join(download_path, 'medals_total.csv'))\n",
    "schedules = pd.read_csv(os.path.join(download_path, 'schedules.csv'))\n",
    "schedules_preliminary = pd.read_csv(os.path.join(download_path, 'schedules_preliminary.csv'))\n",
    "teams = pd.read_csv(os.path.join(download_path, 'teams.csv'))\n",
    "torch_route = pd.read_csv(os.path.join(download_path, 'torch_route.csv'))\n",
    "venues = pd.read_csv(os.path.join(download_path, 'venues.csv'))"
   ]
  }
 ],
 "metadata": {
  "kernelspec": {
   "display_name": "Python 3",
   "language": "python",
   "name": "python3"
  },
  "language_info": {
   "codemirror_mode": {
    "name": "ipython",
    "version": 3
   },
   "file_extension": ".py",
   "mimetype": "text/x-python",
   "name": "python",
   "nbconvert_exporter": "python",
   "pygments_lexer": "ipython3",
   "version": "3.9.7"
  }
 },
 "nbformat": 4,
 "nbformat_minor": 2
}
